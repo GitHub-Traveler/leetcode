{
 "cells": [
  {
   "cell_type": "code",
   "execution_count": 23,
   "metadata": {},
   "outputs": [
    {
     "name": "stdout",
     "output_type": "stream",
     "text": [
      "1 2 3 4 5 4 3 2 1 0 \n",
      "1 2 3 4 5 5 4 3 2 1 0 "
     ]
    }
   ],
   "source": [
    "import math\n",
    "def func(n, i):\n",
    "    if not (n % 2):\n",
    "        if (i < n // 2):\n",
    "            return i + 1\n",
    "        else:\n",
    "            return n // 2 - (i - n // 2) - 1\n",
    "    elif (n % 2):\n",
    "        if (i < n // 2):\n",
    "            return i + 1\n",
    "        else:\n",
    "            return n // 2 - (i - n // 2)\n",
    "\n",
    "x = list(range(10))\n",
    "for num in x:\n",
    "    print(func(10, num), end=\" \")\n",
    "x = list(range(11))\n",
    "print()\n",
    "for num in x:\n",
    "    print(func(11, num), end=\" \")"
   ]
  },
  {
   "cell_type": "code",
   "execution_count": null,
   "metadata": {},
   "outputs": [],
   "source": []
  }
 ],
 "metadata": {
  "kernelspec": {
   "display_name": "capstone",
   "language": "python",
   "name": "python3"
  },
  "language_info": {
   "codemirror_mode": {
    "name": "ipython",
    "version": 3
   },
   "file_extension": ".py",
   "mimetype": "text/x-python",
   "name": "python",
   "nbconvert_exporter": "python",
   "pygments_lexer": "ipython3",
   "version": "3.10.15"
  }
 },
 "nbformat": 4,
 "nbformat_minor": 2
}
